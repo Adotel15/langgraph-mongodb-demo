{
 "cells": [
  {
   "cell_type": "markdown",
   "id": "cc4fe1e9",
   "metadata": {},
   "source": [
    "# Notebook Agente LangGraph + MongoDB"
   ]
  },
  {
   "cell_type": "code",
   "execution_count": null,
   "id": "6181a9f5",
   "metadata": {},
   "outputs": [],
   "source": [
    "import os\n",
    "from dotenv import load_dotenv\n",
    "load_dotenv()\n",
    "\n",
    "os.environ.get(\"OPENAI_API_KEY\")  \n",
    "\n",
    "from typing import TypedDict, List\n",
    "from langgraph.graph import StateGraph, START, END\n",
    "from langchain_core.messages import HumanMessage, AIMessage\n",
    "from langchain_core.language_models import BaseChatModel\n",
    "from langchain_openai import ChatOpenAI\n",
    "\n",
    "class AgentState(TypedDict):\n",
    "    messages: List[object]\n"
   ]
  }
 ],
 "metadata": {
  "kernelspec": {
   "display_name": "Python (LangGraph MongoDB Demo)",
   "language": "python",
   "name": "langgraph-mongo-demo"
  },
  "language_info": {
   "codemirror_mode": {
    "name": "ipython",
    "version": 3
   },
   "file_extension": ".py",
   "mimetype": "text/x-python",
   "name": "python",
   "nbconvert_exporter": "python",
   "pygments_lexer": "ipython3",
   "version": "3.12.4"
  }
 },
 "nbformat": 4,
 "nbformat_minor": 5
}
